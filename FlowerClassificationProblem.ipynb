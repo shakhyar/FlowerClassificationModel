{
  "nbformat": 4,
  "nbformat_minor": 0,
  "metadata": {
    "colab": {
      "name": "FlowerClassificationProblem.ipynb",
      "provenance": [],
      "collapsed_sections": [],
      "authorship_tag": "ABX9TyO+kDjYNliOONlkSyFy7BwW",
      "include_colab_link": true
    },
    "kernelspec": {
      "name": "python3",
      "display_name": "Python 3"
    }
  },
  "cells": [
    {
      "cell_type": "markdown",
      "metadata": {
        "id": "view-in-github",
        "colab_type": "text"
      },
      "source": [
        "<a href=\"https://colab.research.google.com/github/shakhyar/FlowerClassificationModel/blob/main/FlowerClassificationProblem.ipynb\" target=\"_parent\"><img src=\"https://colab.research.google.com/assets/colab-badge.svg\" alt=\"Open In Colab\"/></a>"
      ]
    },
    {
      "cell_type": "code",
      "metadata": {
        "id": "1qpKG85Bm4DR"
      },
      "source": [
        "import sklearn\n",
        "from sklearn.neighbors import KNeighborsClassifier\n",
        "import pandas as pd\n",
        "import numpy as np\n",
        "from sklearn import preprocessing"
      ],
      "execution_count": 4,
      "outputs": []
    },
    {
      "cell_type": "code",
      "metadata": {
        "id": "Bu2FqDNxBWKl"
      },
      "source": [
        "data = pd.read_csv(\"iris.data\")\n",
        "print(data.head())"
      ],
      "execution_count": null,
      "outputs": []
    },
    {
      "cell_type": "code",
      "metadata": {
        "id": "u8g1bq0kBiTq"
      },
      "source": [
        "le = preprocessing.LabelEncoder()\n",
        "cls = le.fit_transform(data[\"class\"])"
      ],
      "execution_count": 6,
      "outputs": []
    },
    {
      "cell_type": "code",
      "metadata": {
        "id": "dwLBpjwcCrpa"
      },
      "source": [
        "predict = \"class\"\n",
        "\n",
        "x = list(zip(data[\"sepL\"], data[\"sepW\"], data[\"petL\"], data[\"petW\"], cls))\n",
        "y = list(cls)"
      ],
      "execution_count": 9,
      "outputs": []
    },
    {
      "cell_type": "code",
      "metadata": {
        "id": "Pc9-ht26DrTr"
      },
      "source": [
        "x_train, x_test, y_train, y_test = sklearn.model_selection.train_test_split(x, y, test_size=0.2)"
      ],
      "execution_count": 10,
      "outputs": []
    },
    {
      "cell_type": "code",
      "metadata": {
        "id": "8VGDyd-IEQ-t",
        "outputId": "f45dfcb8-d853-4d13-be3d-5cbd9b0f0606",
        "colab": {
          "base_uri": "https://localhost:8080/"
        }
      },
      "source": [
        "model = KNeighborsClassifier(n_neighbors=5)\n",
        "model.fit(x_train, y_train)\n",
        "acc = model.score(x_test, y_test)\n",
        "print(acc)\n",
        "\n",
        "predicted = model.predict(x_test)\n",
        "\n",
        "\n",
        "names = [\"Iris Setosa\", \"Iris Versicolour\", \"Iris Virginica\"]\n",
        "\n",
        "for a in range(len(predicted)):\n",
        "  print(\"Predicted: \", names[predicted[a]], \"Actual: \", names[y_test[a]])"
      ],
      "execution_count": 16,
      "outputs": [
        {
          "output_type": "stream",
          "text": [
            "1.0\n",
            "Predicted:  Iris Setosa Actual:  Iris Setosa\n",
            "Predicted:  Iris Virginica Actual:  Iris Virginica\n",
            "Predicted:  Iris Versicolour Actual:  Iris Versicolour\n",
            "Predicted:  Iris Setosa Actual:  Iris Setosa\n",
            "Predicted:  Iris Setosa Actual:  Iris Setosa\n",
            "Predicted:  Iris Virginica Actual:  Iris Virginica\n",
            "Predicted:  Iris Versicolour Actual:  Iris Versicolour\n",
            "Predicted:  Iris Virginica Actual:  Iris Virginica\n",
            "Predicted:  Iris Setosa Actual:  Iris Setosa\n",
            "Predicted:  Iris Versicolour Actual:  Iris Versicolour\n",
            "Predicted:  Iris Virginica Actual:  Iris Virginica\n",
            "Predicted:  Iris Setosa Actual:  Iris Setosa\n",
            "Predicted:  Iris Versicolour Actual:  Iris Versicolour\n",
            "Predicted:  Iris Versicolour Actual:  Iris Versicolour\n",
            "Predicted:  Iris Versicolour Actual:  Iris Versicolour\n",
            "Predicted:  Iris Setosa Actual:  Iris Setosa\n",
            "Predicted:  Iris Setosa Actual:  Iris Setosa\n",
            "Predicted:  Iris Setosa Actual:  Iris Setosa\n",
            "Predicted:  Iris Virginica Actual:  Iris Virginica\n",
            "Predicted:  Iris Virginica Actual:  Iris Virginica\n",
            "Predicted:  Iris Setosa Actual:  Iris Setosa\n",
            "Predicted:  Iris Versicolour Actual:  Iris Versicolour\n",
            "Predicted:  Iris Setosa Actual:  Iris Setosa\n",
            "Predicted:  Iris Versicolour Actual:  Iris Versicolour\n",
            "Predicted:  Iris Setosa Actual:  Iris Setosa\n",
            "Predicted:  Iris Virginica Actual:  Iris Virginica\n",
            "Predicted:  Iris Versicolour Actual:  Iris Versicolour\n",
            "Predicted:  Iris Setosa Actual:  Iris Setosa\n",
            "Predicted:  Iris Virginica Actual:  Iris Virginica\n",
            "Predicted:  Iris Setosa Actual:  Iris Setosa\n"
          ],
          "name": "stdout"
        }
      ]
    }
  ]
}